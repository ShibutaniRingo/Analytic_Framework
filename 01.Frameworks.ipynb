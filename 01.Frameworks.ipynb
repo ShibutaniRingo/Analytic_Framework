{
 "cells": [
  {
   "cell_type": "markdown",
   "metadata": {},
   "source": [
    "<h1>Analytics Frameworks</h1>\n",
    "<h2>1. AARRR</h2>\n",
    "<ul>\n",
    "<li>Acquisition\n",
    "    <ul>\n",
    "    <li>Function: generate attention through a variety of means, both organic and inorganic\n",
    "    <li>Relevant metrics: traffic, mentions, cost per click, search results, cost of acquisition, open rate\n",
    "    <li>Improvement: SEO, SEM, email, campaign, blogs\n",
    "    </ul>\n",
    "<li>Activation\n",
    "    <ul>\n",
    "    <li>Function: turn the resulting drive-by visitors into users who are somehow enrolled\n",
    "    <li>Relevant metrics: enrollments, signups, com- pleted onboarding process, used the service at least once, subscriptions\n",
    "    <li>Improvement: features, UI/UX design, compensation, affirmation\n",
    "    </ul>\n",
    "<li>Retention\n",
    "    <ul>\n",
    "    <li>Function: Convince users to come back repeatedly, exhibiting sticky behavior\n",
    "    <li>Relevant metrics: engagement, time since last visit, daily and monthly active use, churns\n",
    "    <li>Improvement: notification, alerts, reminders, updates\n",
    "    </ul>\n",
    "<li>Revenue (user spend money)\n",
    "    <ul>\n",
    "    <li>Function: Business outcomes (which vary by your business model: purchases, ad clicks, content creation, subscriptions, etc.)\n",
    "    <li>Relevant metrics: Customer lifetime value, con- version rate, shopping cart size, click-through revenue\n",
    "    <li>Improvement: Transaction, Subscriptions, DLC\n",
    "    </ul>\n",
    "<li>Referral\n",
    "    <ul>\n",
    "    <li>Function: Viral and word-of-mouth invitations to other potential users\n",
    "    <li>Relevant metrics: Invites sent, viral coefficient, viral cycle time\n",
    "        <p>the number of new users an existing user generates</p>\n",
    "    <li>Improvement: email, widgets, campaign, likes\n",
    "    </ul>\n",
    "</ul>\n",
    "<h3>Engines of growth</h3>\n",
    "<ul>\n",
    "<li><h4>Sticky Engine</h4>\n",
    "    <p>The sticky engine focuses on getting users to return, and to keep using your product.</p>\n",
    "    <p>The fundamental KPI for stickiness is customer retention.</p>\n",
    "<li><h4>Virality Engine</h4>\n",
    "    <p>Virality is all about getting the word out.</p>\n",
    "    <p>The key metric for this engine is the viral coefficient—the number of new users that each user brings on. You also need to measure the actions that make up the cycle.</p>    \n",
    "<li><h4>Paid Engine</h4>\n",
    "    <p>Getting paid is, in some ways, the ultimate metric for identifying a sustainable business model. </p>\n",
    "    <p>The two knobs on this machine are customer lifetime value (CLV) and customer acquisition cost (CAC). </p>\n",
    "</ul>"
   ]
  },
  {
   "cell_type": "code",
   "execution_count": null,
   "metadata": {},
   "outputs": [],
   "source": []
  }
 ],
 "metadata": {
  "kernelspec": {
   "display_name": "Python 3",
   "language": "python",
   "name": "python3"
  },
  "language_info": {
   "codemirror_mode": {
    "name": "ipython",
    "version": 3
   },
   "file_extension": ".py",
   "mimetype": "text/x-python",
   "name": "python",
   "nbconvert_exporter": "python",
   "pygments_lexer": "ipython3",
   "version": "3.6.8"
  }
 },
 "nbformat": 4,
 "nbformat_minor": 2
}
